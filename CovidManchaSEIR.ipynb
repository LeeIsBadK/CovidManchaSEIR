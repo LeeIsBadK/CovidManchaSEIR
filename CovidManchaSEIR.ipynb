{
 "cells": [
  {
   "cell_type": "markdown",
   "id": "0c7eafc8",
   "metadata": {},
   "source": [
    "# โมเดลแนวโน้มจำนวนผู้ติดเชื้อ COVID-19 ภายในอำเภอมัญจาคีรี โดยใช้โมเดล SEIR"
   ]
  },
  {
   "cell_type": "code",
   "execution_count": 1,
   "id": "fe8166f1",
   "metadata": {},
   "outputs": [],
   "source": [
    "import numpy as np\n",
    "import pandas as pd\n",
    "from scipy.integrate import odeint\n",
    "import matplotlib.pyplot as plt"
   ]
  },
  {
   "cell_type": "markdown",
   "id": "665cd37a",
   "metadata": {},
   "source": [
    "## สมมุติฐานเบื้องต้น\n",
    "1. ประชากรในอำเภอมัญจาคีรีไม่มีการเคลื่อนย้ายประชากร รวมถึงไม่มีการเกิด และ การตาย\n",
    "2. ทุกคนมีความเสี่ยงต่อการติดเชื้อเท่าๆ กัน อายุและเพศ จะไม่มีผล\n",
    "3. มีจำนวนผู้ที่สามารถแพร่เชื้อเริ่มต้นเพียงคนเดียว\n"
   ]
  },
  {
   "cell_type": "code",
   "execution_count": 2,
   "id": "9be09b70",
   "metadata": {},
   "outputs": [],
   "source": [
    "# u is social distancing indicator\n",
    "# u = 0   no social distancing\n",
    "# u = 0.1 ware mask\n",
    "# u = 0.2 ware mask and often cleaning\n",
    "# u = 0.3 ware mask, often cleaning and WFH\n",
    "u = 0"
   ]
  },
  {
   "cell_type": "markdown",
   "id": "a083368c",
   "metadata": {},
   "source": [
    "## พารามิเตอร์\n",
    "ค่าพารามิเตอร์จะอ้างอิงกับงานวิจัยนี้ (https://www.nejm.org/doi/full/10.1056/NEJMoa2001316)\n",
    "1. ระยะเวลาในการฟักตัวของเชื้อเฉลี่ย  = 3.2 วัน\n",
    "2. ระยะเวลาการติดเชื้อเฉลี่ย  = 2.3 วัน \n",
    "3. ระดับค่าการติดเชื้อ (R0) = 2.006\n",
    "4. ประชากรในอำเภอมัญจาคีรี จังหวัดขอนแก่นในพ.ศ. 2563-2564 = 71371 คน (สำนักงานสถิติแห่งชาติ)\n"
   ]
  },
  {
   "cell_type": "code",
   "execution_count": 3,
   "id": "e7fa664c",
   "metadata": {},
   "outputs": [],
   "source": [
    "#Parameter\n",
    "t_incubation = 5.2\n",
    "t_infective = 3.2\n",
    "R0 = 2.2\n",
    "N = 71371\n",
    "G = 200"
   ]
  },
  {
   "cell_type": "code",
   "execution_count": 4,
   "id": "89b04fc6",
   "metadata": {},
   "outputs": [],
   "source": [
    "e0= 1/N\n",
    "i0 = 0.0\n",
    "r0 = 0.0\n",
    "s0 = 1 - i0 - r0 - e0\n",
    "x0 = [s0, e0, i0, r0]\n",
    "\n",
    "alpha = 1/t_incubation\n",
    "gramma = 1/t_infective\n",
    "beta = R0 * gramma\n",
    "hm = 1 - 1/R0"
   ]
  },
  {
   "cell_type": "code",
   "execution_count": 5,
   "id": "2fdba8a9",
   "metadata": {},
   "outputs": [],
   "source": [
    "def covid(x,t):\n",
    "    s, e, i, r = x\n",
    "    dx = np.zeros(4)\n",
    "    dx[0] = -(1-u) * beta * s * i\n",
    "    dx[1] = (1-u) * beta * s * i - (alpha * e)\n",
    "    dx[2] = alpha * e - ( gramma * i)\n",
    "    dx[3] = gramma * i\n",
    "    return dx\n"
   ]
  },
  {
   "cell_type": "code",
   "execution_count": 6,
   "id": "43b86469",
   "metadata": {},
   "outputs": [],
   "source": [
    "t = np.linspace(0,G,G)\n",
    "x = odeint(covid,x0,t)\n",
    "s = x[:,0]; e = x[:,1]; i = x[:,2]; r = x[:,3]"
   ]
  },
  {
   "cell_type": "code",
   "execution_count": 7,
   "id": "c4179581",
   "metadata": {},
   "outputs": [
    {
     "data": {
      "image/png": "[encoded data removed]",
      "text/plain": [
       "<Figure size 576x360 with 2 Axes>"
      ]
     },
     "metadata": {
      "needs_background": "light"
     },
     "output_type": "display_data"
    }
   ],
   "source": [
    "# plot the graph \n",
    "plt.figure(figsize=(8,5))\n",
    "\n",
    "plt.subplot(2,1,1)\n",
    "plt.title('Social distancing = '+str(u*100)+'%')\n",
    "plt.plot(t,s*N,color='blue', lw=3, label='Susceptible')\n",
    "plt.plot(t,r*N,color='green', lw=3, label='Recovered')\n",
    "plt.axhline(hm*N,lw=1)\n",
    "plt.ylabel('People')\n",
    "plt.legend()\n",
    "\n",
    "plt.subplot(2,1,2)\n",
    "plt.plot(t,i*N,color='red', lw=3, label='Infective')\n",
    "plt.plot(t,e*N,color='orange', lw=3, label='Exposed')\n",
    "plt.ylim(0,N/5)\n",
    "plt.xlabel('Time (Per days)')\n",
    "plt.ylabel('People')\n",
    "plt.legend()\n",
    "\n",
    "plt.show()"
   ]
  },
  {
   "cell_type": "code",
   "execution_count": 8,
   "id": "e720c301",
   "metadata": {},
   "outputs": [],
   "source": [
    "dt = x * N"
   ]
  },
  {
   "cell_type": "code",
   "execution_count": 15,
   "id": "71f44ba9",
   "metadata": {},
   "outputs": [
    {
     "data": {
      "text/html": [
       "<div>\n",
       "<style scoped>\n",
       "    .dataframe tbody tr th:only-of-type {\n",
       "        vertical-align: middle;\n",
       "    }\n",
       "\n",
       "    .dataframe tbody tr th {\n",
       "        vertical-align: top;\n",
       "    }\n",
       "\n",
       "    .dataframe thead th {\n",
       "        text-align: right;\n",
       "    }\n",
       "</style>\n",
       "<table border=\"1\" class=\"dataframe\">\n",
       "  <thead>\n",
       "    <tr style=\"text-align: right;\">\n",
       "      <th></th>\n",
       "      <th>Susceptible</th>\n",
       "      <th>Exposed</th>\n",
       "      <th>Infective</th>\n",
       "      <th>Recovered</th>\n",
       "    </tr>\n",
       "  </thead>\n",
       "  <tbody>\n",
       "    <tr>\n",
       "      <th>1</th>\n",
       "      <td>71370</td>\n",
       "      <td>1</td>\n",
       "      <td>0</td>\n",
       "      <td>0</td>\n",
       "    </tr>\n",
       "    <tr>\n",
       "      <th>2</th>\n",
       "      <td>71369</td>\n",
       "      <td>0</td>\n",
       "      <td>0</td>\n",
       "      <td>0</td>\n",
       "    </tr>\n",
       "    <tr>\n",
       "      <th>3</th>\n",
       "      <td>71369</td>\n",
       "      <td>0</td>\n",
       "      <td>0</td>\n",
       "      <td>0</td>\n",
       "    </tr>\n",
       "    <tr>\n",
       "      <th>4</th>\n",
       "      <td>71369</td>\n",
       "      <td>0</td>\n",
       "      <td>0</td>\n",
       "      <td>0</td>\n",
       "    </tr>\n",
       "    <tr>\n",
       "      <th>5</th>\n",
       "      <td>71369</td>\n",
       "      <td>0</td>\n",
       "      <td>0</td>\n",
       "      <td>0</td>\n",
       "    </tr>\n",
       "    <tr>\n",
       "      <th>...</th>\n",
       "      <td>...</td>\n",
       "      <td>...</td>\n",
       "      <td>...</td>\n",
       "      <td>...</td>\n",
       "    </tr>\n",
       "    <tr>\n",
       "      <th>196</th>\n",
       "      <td>11153</td>\n",
       "      <td>1</td>\n",
       "      <td>1</td>\n",
       "      <td>60213</td>\n",
       "    </tr>\n",
       "    <tr>\n",
       "      <th>197</th>\n",
       "      <td>11153</td>\n",
       "      <td>1</td>\n",
       "      <td>1</td>\n",
       "      <td>60214</td>\n",
       "    </tr>\n",
       "    <tr>\n",
       "      <th>198</th>\n",
       "      <td>11153</td>\n",
       "      <td>1</td>\n",
       "      <td>1</td>\n",
       "      <td>60214</td>\n",
       "    </tr>\n",
       "    <tr>\n",
       "      <th>199</th>\n",
       "      <td>11153</td>\n",
       "      <td>1</td>\n",
       "      <td>1</td>\n",
       "      <td>60215</td>\n",
       "    </tr>\n",
       "    <tr>\n",
       "      <th>200</th>\n",
       "      <td>11153</td>\n",
       "      <td>1</td>\n",
       "      <td>1</td>\n",
       "      <td>60215</td>\n",
       "    </tr>\n",
       "  </tbody>\n",
       "</table>\n",
       "<p>200 rows × 4 columns</p>\n",
       "</div>"
      ],
      "text/plain": [
       "     Susceptible  Exposed  Infective  Recovered\n",
       "1          71370        1          0          0\n",
       "2          71369        0          0          0\n",
       "3          71369        0          0          0\n",
       "4          71369        0          0          0\n",
       "5          71369        0          0          0\n",
       "..           ...      ...        ...        ...\n",
       "196        11153        1          1      60213\n",
       "197        11153        1          1      60214\n",
       "198        11153        1          1      60214\n",
       "199        11153        1          1      60215\n",
       "200        11153        1          1      60215\n",
       "\n",
       "[200 rows x 4 columns]"
      ]
     },
     "execution_count": 15,
     "metadata": {},
     "output_type": "execute_result"
    }
   ],
   "source": [
    "df = pd.DataFrame(data=dt, columns=['Susceptible','Exposed','Infective','Recovered'],index = [str(i+1) for i in range(G)]).astype(int)\n",
    "df"
   ]
  },
  {
   "cell_type": "code",
   "execution_count": 10,
   "id": "08e59a9c",
   "metadata": {},
   "outputs": [
    {
     "name": "stdout",
     "output_type": "stream",
     "text": [
      "Maximum Infectives in day :  99 \n",
      " Infective :  5032 \n",
      " Recovered :  29000\n"
     ]
    }
   ],
   "source": [
    "# maximun infective in 1 day\n",
    "print('Maximum Infectives in day : ',int(df[\"Infective\"].idxmax()),'\\n Infective : ',df[\"Infective\"].max(),'\\n Recovered : ',df.loc[df[\"Infective\"].idxmax(), 'Recovered'])"
   ]
  },
  {
   "cell_type": "code",
   "execution_count": 11,
   "id": "321fb840",
   "metadata": {},
   "outputs": [
    {
     "name": "stdout",
     "output_type": "stream",
     "text": [
      "34032\n"
     ]
    }
   ],
   "source": [
    "print(df[\"Infective\"].max() + df.loc[df[\"Infective\"].idxmax(), 'Recovered'])"
   ]
  },
  {
   "cell_type": "code",
   "execution_count": 12,
   "id": "d64d4adb",
   "metadata": {},
   "outputs": [
    {
     "name": "stdout",
     "output_type": "stream",
     "text": [
      "38929.63636363636\n"
     ]
    }
   ],
   "source": [
    "print((1-(1/R0))*N)"
   ]
  },
  {
   "cell_type": "markdown",
   "id": "02d7698b",
   "metadata": {},
   "source": [
    "## การบันทึกไฟล์เป็น CSV เพื่อนำไป Visualization\n"
   ]
  },
  {
   "cell_type": "code",
   "execution_count": 13,
   "id": "4ad24cf5",
   "metadata": {},
   "outputs": [],
   "source": [
    "# df.to_csv(r'#local file where you want to save#\\#name#.csv', index = False) then delete the '#' in front of code\n",
    "# df.to_csv(r'C:\\Users\\User\\Documents\\Covid data visual\\ManchaKhiriModel.csv', index = False)"
   ]
  }
 ],
 "metadata": {
  "kernelspec": {
   "display_name": "Python 3",
   "language": "python",
   "name": "python3"
  },
  "language_info": {
   "codemirror_mode": {
    "name": "ipython",
    "version": 3
   },
   "file_extension": ".py",
   "mimetype": "text/x-python",
   "name": "python",
   "nbconvert_exporter": "python",
   "pygments_lexer": "ipython3",
   "version": "3.8.8"
  }
 },
 "nbformat": 4,
 "nbformat_minor": 5
}
