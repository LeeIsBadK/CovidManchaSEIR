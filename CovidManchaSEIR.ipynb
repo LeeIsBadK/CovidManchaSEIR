{
  "nbformat": 4,
  "nbformat_minor": 5,
  "metadata": {
    "kernelspec": {
      "display_name": "Python 3",
      "language": "python",
      "name": "python3"
    },
    "language_info": {
      "codemirror_mode": {
        "name": "ipython",
        "version": 3
      },
      "file_extension": ".py",
      "mimetype": "text/x-python",
      "name": "python",
      "nbconvert_exporter": "python",
      "pygments_lexer": "ipython3",
      "version": "3.8.8"
    },
    "colab": {
      "name": "CovidManchaSEIR.ipynb",
      "private_outputs": true,
      "provenance": [],
      "include_colab_link": true
    }
  },
  "cells": [
    {
      "cell_type": "markdown",
      "metadata": {
        "id": "view-in-github",
        "colab_type": "text"
      },
      "source": [
        "<a href=\"https://colab.research.google.com/github/LeeIsBadK/CovidManchaSEIR/blob/main/CovidManchaSEIR.ipynb\" target=\"_parent\"><img src=\"https://colab.research.google.com/assets/colab-badge.svg\" alt=\"Open In Colab\"/></a>"
      ]
    },
    {
      "cell_type": "markdown",
      "metadata": {
        "id": "0c7eafc8"
      },
      "source": [
        "# โมเดลแนวโน้มจำนวนผู้ติดเชื้อ COVID-19 ภายในอำเภอมัญจาคีรี โดยใช้โมเดล SEIR\n",
        "---\n",
        "กิตติพัฒน์ ลี้สมบัติวัฒนะ\n",
        "\n",
        "โรงเรียนมัญจาศึกษา อำเภอมัญจาคีรี จังหวัดขอนแก่น"
      ],
      "id": "0c7eafc8"
    },
    {
      "cell_type": "markdown",
      "metadata": {
        "id": "HOlcAZ3OABpF"
      },
      "source": [
        "## คำชี้แจง\n",
        "เมื่อต้องการจำลองโมเดล ให้กด Runtime -> Run all หรือ กดทำงานในช่อง coding ทีละบรรทัด และควรกดทุกครั้งที่มีการเปลี่ยนค่าพารามิเตอร์ "
      ],
      "id": "HOlcAZ3OABpF"
    },
    {
      "cell_type": "code",
      "metadata": {
        "id": "fe8166f1"
      },
      "source": [
        "# Submitted By Kittiphat Leesombatwathana\n",
        "import numpy as np\n",
        "import pandas as pd\n",
        "from scipy.integrate import odeint\n",
        "import matplotlib.pyplot as plt\n",
        "print('Import library done')"
      ],
      "id": "fe8166f1",
      "execution_count": null,
      "outputs": []
    },
    {
      "cell_type": "markdown",
      "metadata": {
        "id": "665cd37a"
      },
      "source": [
        "## สมมุติฐานเบื้องต้น\n",
        "1. ประชากรในอำเภอมัญจาคีรีไม่มีการเคลื่อนย้ายประชากร รวมถึงไม่มีการเกิด และ การตาย\n",
        "2. ทุกคนมีความเสี่ยงต่อการติดเชื้อเท่าๆ กัน อายุและเพศ จะไม่มีผล\n",
        "3. มีจำนวนผู้ที่สามารถแพร่เชื้อเริ่มต้นเพียงคนเดียว\n"
      ],
      "id": "665cd37a"
    },
    {
      "cell_type": "markdown",
      "metadata": {
        "id": "a083368c"
      },
      "source": [
        "## พารามิเตอร์\n",
        "ค่าพารามิเตอร์จะอ้างอิงกับงานวิจัยนี้ (https://www.nejm.org/doi/full/10.1056/NEJMoa2001316)\n",
        "1. ระยะเวลาในการฟักตัวของเชื้อเฉลี่ย  = 3.2 วัน\n",
        "2. ระยะเวลาการติดเชื้อเฉลี่ย  = 2.3 วัน \n",
        "3. ระดับค่าการติดเชื้อ (R0) = 2.006\n",
        "4. ประชากรในอำเภอมัญจาคีรี จังหวัดขอนแก่นในพ.ศ. 2563-2564 = 71371 คน (สำนักงานสถิติแห่งชาติ)\n"
      ],
      "id": "a083368c"
    },
    {
      "cell_type": "code",
      "metadata": {
        "id": "e7fa664c"
      },
      "source": [
        "#Parameter\n",
        "t_incubation = 5.2\n",
        "t_infective = 3.2\n",
        "R0 = 2.2\n",
        "N = 71371\n",
        "Display = 200\n",
        "\n",
        "print('Done')"
      ],
      "id": "e7fa664c",
      "execution_count": null,
      "outputs": []
    },
    {
      "cell_type": "markdown",
      "metadata": {
        "id": "nTN0_7p5nFrd"
      },
      "source": [
        "## การออกมาตรการควบคุมโรค\n",
        "เราจะใช้ค่า u เป็นตัวกำหนดร้อยละที่ลดจำนวนผู้เสี่ยงติดเชื้อได้ โดยมีค่าตั้งแต่ 0-1"
      ],
      "id": "nTN0_7p5nFrd"
    },
    {
      "cell_type": "code",
      "metadata": {
        "id": "9be09b70"
      },
      "source": [
        "# u is social distancing indicator\n",
        "# u = 0   no social distancing\n",
        "# u = 0.1 ware mask\n",
        "# u = 0.2 ware mask and often cleaning\n",
        "# u = 0.3 ware mask, often cleaning and WFH\n",
        "u = 0\n",
        "\n",
        "print('Done')"
      ],
      "id": "9be09b70",
      "execution_count": null,
      "outputs": []
    },
    {
      "cell_type": "markdown",
      "metadata": {
        "id": "iLQrBLeqoStI"
      },
      "source": [
        "## ส่วนการคำนวณ และ Coding"
      ],
      "id": "iLQrBLeqoStI"
    },
    {
      "cell_type": "code",
      "metadata": {
        "id": "89b04fc6"
      },
      "source": [
        "# Define var\n",
        "e0= 1/N\n",
        "i0 = 0.0\n",
        "r0 = 0.0\n",
        "s0 = 1 - i0 - r0 - e0\n",
        "x0 = [s0, e0, i0, r0]\n",
        "\n",
        "alpha = 1/t_incubation\n",
        "gramma = 1/t_infective\n",
        "beta = R0 * gramma\n",
        "hm = 1 - 1/R0"
      ],
      "id": "89b04fc6",
      "execution_count": null,
      "outputs": []
    },
    {
      "cell_type": "code",
      "metadata": {
        "id": "2fdba8a9"
      },
      "source": [
        "# Define differential equation\n",
        "def covid(x,t):\n",
        "    s, e, i, r = x\n",
        "    dx = np.zeros(4)\n",
        "    dx[0] = -(1-u) * beta * s * i\n",
        "    dx[1] = (1-u) * beta * s * i - (alpha * e)\n",
        "    dx[2] = alpha * e - ( gramma * i)\n",
        "    dx[3] = gramma * i\n",
        "    return dx"
      ],
      "id": "2fdba8a9",
      "execution_count": null,
      "outputs": []
    },
    {
      "cell_type": "code",
      "metadata": {
        "id": "43b86469"
      },
      "source": [
        "# Run differential equation with var\n",
        "t = np.linspace(0,Display,Display)\n",
        "x = odeint(covid,x0,t)\n",
        "s = x[:,0]; e = x[:,1]; i = x[:,2]; r = x[:,3]"
      ],
      "id": "43b86469",
      "execution_count": null,
      "outputs": []
    },
    {
      "cell_type": "code",
      "metadata": {
        "id": "c4179581"
      },
      "source": [
        "# plot the graph fron differential equation\n",
        "plt.figure(figsize=(8,5))\n",
        "\n",
        "plt.subplot(2,1,1)\n",
        "plt.title('Social distancing = '+str(u*100)+'%')\n",
        "plt.plot(t,s*N,color='blue', lw=3, label='Susceptible')\n",
        "plt.plot(t,r*N,color='green', lw=3, label='Recovered')\n",
        "plt.axhline(hm*N,lw=1)\n",
        "plt.ylabel('People')\n",
        "plt.legend()\n",
        "\n",
        "plt.subplot(2,1,2)\n",
        "plt.plot(t,i*N,color='red', lw=3, label='Infective')\n",
        "plt.plot(t,e*N,color='orange', lw=3, label='Exposed')\n",
        "plt.ylim(0,N/5)\n",
        "plt.xlabel('Time (Per days)')\n",
        "plt.ylabel('People')\n",
        "plt.legend()\n",
        "\n",
        "plt.show()"
      ],
      "id": "c4179581",
      "execution_count": null,
      "outputs": []
    },
    {
      "cell_type": "code",
      "metadata": {
        "id": "71f44ba9"
      },
      "source": [
        "# Display dataframe with differential equation\n",
        "dt = x * N\n",
        "df = pd.DataFrame(data=dt, columns=['Susceptible','Exposed','Infective','Recovered'],index = [str(i+1) for i in range(Display)]).round().astype(int)\n",
        "df"
      ],
      "id": "71f44ba9",
      "execution_count": null,
      "outputs": []
    },
    {
      "cell_type": "markdown",
      "metadata": {
        "id": "nZzYk6gjmauh"
      },
      "source": [
        "## Herd immunity ในพื้นที่อำเภอมัญจาคีรี\n",
        "การเกิดภูมิคุ้มกันหมู่จะเกิดก็ต่อเมื่อมีจำนวนผู้ติดเชื้อในร้อยละ $$ 1-\\frac{1}{R_0}$$\n",
        "ซึ่งจะเกิดในวันที่ผู้ติดเชื้อมากที่สุด ก่อนที่จะมีผู้ติดเชื้อลดลง"
      ],
      "id": "nZzYk6gjmauh"
    },
    {
      "cell_type": "code",
      "metadata": {
        "id": "08e59a9c"
      },
      "source": [
        "# maximun infective in 1 day\n",
        "print('Maximum Infectives in day : ',int(df[\"Infective\"].idxmax()),\n",
        "      '\\n Infective : ',df[\"Infective\"].max(),\n",
        "      '\\n Recovered : ',df.loc[df[\"Infective\"].idxmax(), 'Recovered'])"
      ],
      "id": "08e59a9c",
      "execution_count": null,
      "outputs": []
    },
    {
      "cell_type": "code",
      "metadata": {
        "id": "321fb840"
      },
      "source": [
        "# The sum of maximun infective and recovered in the maximum infective day\n",
        "print(df[\"Infective\"].max() + df.loc[df[\"Infective\"].idxmax(), 'Recovered'])"
      ],
      "id": "321fb840",
      "execution_count": null,
      "outputs": []
    },
    {
      "cell_type": "code",
      "metadata": {
        "id": "d64d4adb"
      },
      "source": [
        "# Real herd immunity equation\n",
        "print((1-(1/R0))*N)"
      ],
      "id": "d64d4adb",
      "execution_count": null,
      "outputs": []
    },
    {
      "cell_type": "markdown",
      "metadata": {
        "id": "02d7698b"
      },
      "source": [
        "## การบันทึกไฟล์เป็น CSV เพื่อนำไป Visualization\n"
      ],
      "id": "02d7698b"
    },
    {
      "cell_type": "code",
      "metadata": {
        "id": "4ad24cf5"
      },
      "source": [
        "# df.to_csv(r'#local file where you want to save#\\#name#.csv', index = False) then delete the '#' in front of code\n",
        "# df.to_csv(r'C:\\Users\\User\\Documents\\Covid data visual\\ManchaKhiriModel.csv', index = False)"
      ],
      "id": "4ad24cf5",
      "execution_count": null,
      "outputs": []
    }
  ]
}